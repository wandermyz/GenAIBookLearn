{
 "cells": [
  {
   "cell_type": "code",
   "execution_count": 3,
   "metadata": {},
   "outputs": [
    {
     "name": "stderr",
     "output_type": "stream",
     "text": [
      "Downloading shards: 100%|██████████| 2/2 [04:31<00:00, 135.98s/it]\n",
      "Loading checkpoint shards: 100%|██████████| 2/2 [00:00<00:00,  9.18it/s]\n",
      "Device set to use cuda\n"
     ]
    }
   ],
   "source": [
    "import transformers\n",
    "import torch\n",
    "\n",
    "model_id = \"meta-llama/Llama-3.2-3B-Instruct\"\n",
    "\n",
    "pipeline = transformers.pipeline(\n",
    "    \"text-generation\", \n",
    "    model=model_id, \n",
    "    model_kwargs={\"torch_dtype\": torch.bfloat16}, \n",
    "    device=\"cuda\"\n",
    ")"
   ]
  },
  {
   "cell_type": "code",
   "execution_count": 4,
   "metadata": {},
   "outputs": [],
   "source": [
    "messages = [\n",
    "    {\"role\": \"system\", \"content\": \"You are a helpful assistant.\"},\n",
    "    {\"role\": \"user\", \"content\": \"Is my cat cute?\"},\n",
    "]"
   ]
  },
  {
   "cell_type": "code",
   "execution_count": 5,
   "metadata": {},
   "outputs": [
    {
     "name": "stderr",
     "output_type": "stream",
     "text": [
      "Setting `pad_token_id` to `eos_token_id`:128001 for open-end generation.\n"
     ]
    },
    {
     "data": {
      "text/plain": [
       "[{'generated_text': [{'role': 'system',\n",
       "    'content': 'You are a helpful assistant.'},\n",
       "   {'role': 'user', 'content': 'Is my cat cute?'},\n",
       "   {'role': 'assistant',\n",
       "    'content': \"That's a subjective question, but I'd love to try to help you answer it.\\n\\nCuteness is in the eye of the beholder, and what one person finds adorable, another might not. However, I can try to provide some insights.\\n\\nCats are often considered cute due to their physical characteristics, such as:\\n\\n1. Their small size and compact body\\n2. Their round face, large eyes, and fluffy ears\\n3. Their playful and curious nature\\n4. Their soft\"}]}]"
      ]
     },
     "execution_count": 5,
     "metadata": {},
     "output_type": "execute_result"
    }
   ],
   "source": [
    "import time \n",
    "\n",
    "start_time = time.time()\n",
    "output = pipeline(text_inputs=messages, max_new_tokens=100)\n",
    "end_time = time.time()\n",
    "\n",
    "output"
   ]
  },
  {
   "cell_type": "code",
   "execution_count": 6,
   "metadata": {},
   "outputs": [
    {
     "name": "stdout",
     "output_type": "stream",
     "text": [
      "Generated text: [{'role': 'system', 'content': 'You are a helpful assistant.'}, {'role': 'user', 'content': 'Is my cat cute?'}, {'role': 'assistant', 'content': \"That's a subjective question, but I'd love to try to help you answer it.\\n\\nCuteness is in the eye of the beholder, and what one person finds adorable, another might not. However, I can try to provide some insights.\\n\\nCats are often considered cute due to their physical characteristics, such as:\\n\\n1. Their small size and compact body\\n2. Their round face, large eyes, and fluffy ears\\n3. Their playful and curious nature\\n4. Their soft\"}]\n",
      "Tokens generated: 153\n",
      "Time taken: 2.89 seconds\n",
      "Tokens per second: 52.95 t/s\n"
     ]
    }
   ],
   "source": [
    "tokenizer = transformers.AutoTokenizer.from_pretrained(model_id)\n",
    "generated_text = output[0][\"generated_text\"]\n",
    "\n",
    "generated_text_str = str(generated_text) \n",
    "generated_tokens = tokenizer(generated_text_str, return_tensors=\"pt\")\n",
    "num_tokens = generated_tokens[\"input_ids\"].shape[1]\n",
    "\n",
    "total_time = end_time - start_time\n",
    "tokens_per_sec = num_tokens / total_time if total_time > 0 else 0\n",
    "\n",
    "print(\"Generated text:\", generated_text)\n",
    "print(f\"Tokens generated: {num_tokens}\")\n",
    "print(f\"Time taken: {total_time:.2f} seconds\")\n",
    "print(f\"Tokens per second: {tokens_per_sec:.2f} t/s\")\n"
   ]
  }
 ],
 "metadata": {
  "kernelspec": {
   "display_name": "venv",
   "language": "python",
   "name": "python3"
  },
  "language_info": {
   "codemirror_mode": {
    "name": "ipython",
    "version": 3
   },
   "file_extension": ".py",
   "mimetype": "text/x-python",
   "name": "python",
   "nbconvert_exporter": "python",
   "pygments_lexer": "ipython3",
   "version": "3.12.3"
  }
 },
 "nbformat": 4,
 "nbformat_minor": 2
}
