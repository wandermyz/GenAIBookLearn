{
 "cells": [
  {
   "cell_type": "code",
   "execution_count": null,
   "metadata": {},
   "outputs": [
    {
     "name": "stderr",
     "output_type": "stream",
     "text": [
      "Downloading shards: 100%|██████████| 4/4 [06:27<00:00, 96.97s/it] \n",
      "Loading checkpoint shards: 100%|██████████| 4/4 [00:00<00:00,  4.34it/s]\n",
      "Device set to use mps\n"
     ]
    }
   ],
   "source": [
    "import transformers\n",
    "import torch\n",
    "\n",
    "# model_id = \"meta-llama/Llama-3.1-8B\"\n",
    "model_id = \"meta-llama/Llama-3.1-8B-Instruct\"\n",
    "\n",
    "pipeline = transformers.pipeline(\n",
    "    \"text-generation\", \n",
    "    model=model_id, \n",
    "    model_kwargs={\"torch_dtype\": torch.bfloat16}, \n",
    "    device=\"mps\"\n",
    "    # device_map=\"auto\",\n",
    ")"
   ]
  },
  {
   "cell_type": "code",
   "execution_count": 2,
   "metadata": {},
   "outputs": [],
   "source": [
    "messages = [\n",
    "    {\"role\": \"system\", \"content\": \"You are a helpful assistant.\"},\n",
    "    {\"role\": \"user\", \"content\": \"Is my cat cute?\"},\n",
    "]"
   ]
  },
  {
   "cell_type": "code",
   "execution_count": 47,
   "metadata": {},
   "outputs": [
    {
     "name": "stderr",
     "output_type": "stream",
     "text": [
      "Setting `pad_token_id` to `eos_token_id`:128001 for open-end generation.\n"
     ]
    },
    {
     "data": {
      "text/plain": [
       "[{'generated_text': [{'role': 'system',\n",
       "    'content': 'You are a helpful assistant.'},\n",
       "   {'role': 'user', 'content': 'Is my cat cute?'},\n",
       "   {'role': 'assistant',\n",
       "    'content': \"I'm sure your cat is adorable in your eyes. Cats are known for their unique personalities and characteristics, which can make them quite endearing to their owners. Since I don't have a visual of your cat, I'll have to rely on your description.\\n\\nCan you tell me a bit more about your cat? What's their breed, color, or any distinctive features they might have? I'd be happy to help you describe just how cute they are!\"}]}]"
      ]
     },
     "execution_count": 47,
     "metadata": {},
     "output_type": "execute_result"
    }
   ],
   "source": [
    "import time \n",
    "\n",
    "start_time = time.time()\n",
    "output = pipeline(text_inputs=messages, max_new_tokens=100)\n",
    "end_time = time.time()\n",
    "\n",
    "output"
   ]
  },
  {
   "cell_type": "code",
   "execution_count": null,
   "metadata": {},
   "outputs": [
    {
     "name": "stdout",
     "output_type": "stream",
     "text": [
      "Generated text: [{'role': 'system', 'content': 'You are a helpful assistant.'}, {'role': 'user', 'content': 'Is my cat cute?'}, {'role': 'assistant', 'content': \"I'm sure your cat is adorable in your eyes. Cats are known for their unique personalities and characteristics, which can make them quite endearing to their owners. Since I don't have a visual of your cat, I'll have to rely on your description.\\n\\nCan you tell me a bit more about your cat? What's their breed, color, or any distinctive features they might have? I'd be happy to help you describe just how cute they are!\"}]\n",
      "Tokens generated: 140\n",
      "Time taken: 12.15 seconds\n",
      "Tokens per second: 11.52 t/s\n"
     ]
    }
   ],
   "source": [
    "tokenizer = transformers.AutoTokenizer.from_pretrained(model_id)\n",
    "generated_text = output[0][\"generated_text\"]\n",
    "\n",
    "generated_text_str = str(generated_text) \n",
    "generated_tokens = tokenizer(generated_text_str, return_tensors=\"pt\")\n",
    "num_tokens = generated_tokens[\"input_ids\"].shape[1]\n",
    "\n",
    "total_time = end_time - start_time\n",
    "tokens_per_sec = num_tokens / total_time if total_time > 0 else 0\n",
    "\n",
    "print(\"Generated text:\", generated_text)\n",
    "print(f\"Tokens generated: {num_tokens}\")\n",
    "print(f\"Time taken: {total_time:.2f} seconds\")\n",
    "print(f\"Tokens per second: {tokens_per_sec:.2f} t/s\")\n"
   ]
  },
  {
   "cell_type": "markdown",
   "metadata": {},
   "source": [
    "# Flann T5"
   ]
  },
  {
   "cell_type": "code",
   "execution_count": 16,
   "metadata": {},
   "outputs": [],
   "source": [
    "import transformers\n",
    "\n",
    "model_id = \"google/flan-t5-base\"\n",
    "model = transformers.AutoModelForSeq2SeqLM.from_pretrained(model_id, torch_dtype=torch.bfloat16).to(\"mps\")\n",
    "tokenizer = transformers.AutoTokenizer.from_pretrained(model_id)"
   ]
  },
  {
   "cell_type": "code",
   "execution_count": 22,
   "metadata": {},
   "outputs": [
    {
     "data": {
      "text/plain": [
       "{'input_ids': tensor([[12198,  1635,  1737,     8,   826,  1499,    10,  1713,   345, 13515,\n",
       "           536,  4663,    10,  2114,    25,  1702, 21066,    39,   358,    58,\n",
       "          1713,   345, 13515,   357,  4663,    10,  2163,     6,    68,    27,\n",
       "            31,    51,    59,   417,   125,  1776,    27,   133,   174,     5,\n",
       "          1713,   345, 13515,   536,  4663,    10,   148,   228,  1099,  2651,\n",
       "             3,     9,  3924,   478,    12,    39,   889,     5,    94,   133,\n",
       "           995,    25,    12,   143,    95,    39,   293,  3971,   277,    11,\n",
       "         11662,     7,    21,  3662,     5,  1713,   345, 13515,   357,  4663,\n",
       "            10,   466,   133,    36,     3,     9,     3, 14339,  4023,     5,\n",
       "          1713,   345, 13515,   536,  4663,    10,   148,   429,    92,   241,\n",
       "            12,  5941,    39,  4214,   250,    34,    19,  1134, 21643,   230,\n",
       "             5,  1713,   345, 13515,   357,  4663,    10,   571,    54,    62,\n",
       "           103,    24,    58,  1713,   345, 13515,   536,  4663,    10,   148,\n",
       "            31,    26,  1077,   174,     3,     9,  3627,  7502,     6,    12,\n",
       "          1731,    28,     5,   275,    25,    92,   174,     3,     9,    72,\n",
       "          2021,   614,  5025,     6,    72,  2594,    11,     3,     9,  3627,\n",
       "          2175,    51,     5,   531,    25,    43,     3,     9,  3190,    18,\n",
       "         13103,  1262,    58,  1713,   345, 13515,   357,  4663,    10,   465,\n",
       "             5,  1713,   345, 13515,   536,  4663,    10,    37,    29,    25,\n",
       "           429,   241,    12,   617,     3,     9,  3190,    18, 13103,  1262,\n",
       "           396,     6,   250,   167,   126,   889,  1356,    33,  1107,    91,\n",
       "            30,   205,    26,     7,     5,  1713,   345, 13515,   357,  4663,\n",
       "            10,   466,  2993,   248,     5,  1333,     5, 20698,    10,     3,\n",
       "             1]]), 'attention_mask': tensor([[1, 1, 1, 1, 1, 1, 1, 1, 1, 1, 1, 1, 1, 1, 1, 1, 1, 1, 1, 1, 1, 1, 1, 1,\n",
       "         1, 1, 1, 1, 1, 1, 1, 1, 1, 1, 1, 1, 1, 1, 1, 1, 1, 1, 1, 1, 1, 1, 1, 1,\n",
       "         1, 1, 1, 1, 1, 1, 1, 1, 1, 1, 1, 1, 1, 1, 1, 1, 1, 1, 1, 1, 1, 1, 1, 1,\n",
       "         1, 1, 1, 1, 1, 1, 1, 1, 1, 1, 1, 1, 1, 1, 1, 1, 1, 1, 1, 1, 1, 1, 1, 1,\n",
       "         1, 1, 1, 1, 1, 1, 1, 1, 1, 1, 1, 1, 1, 1, 1, 1, 1, 1, 1, 1, 1, 1, 1, 1,\n",
       "         1, 1, 1, 1, 1, 1, 1, 1, 1, 1, 1, 1, 1, 1, 1, 1, 1, 1, 1, 1, 1, 1, 1, 1,\n",
       "         1, 1, 1, 1, 1, 1, 1, 1, 1, 1, 1, 1, 1, 1, 1, 1, 1, 1, 1, 1, 1, 1, 1, 1,\n",
       "         1, 1, 1, 1, 1, 1, 1, 1, 1, 1, 1, 1, 1, 1, 1, 1, 1, 1, 1, 1, 1, 1, 1, 1,\n",
       "         1, 1, 1, 1, 1, 1, 1, 1, 1, 1, 1, 1, 1, 1, 1, 1, 1, 1, 1, 1, 1, 1, 1, 1,\n",
       "         1, 1, 1, 1, 1, 1, 1, 1, 1, 1, 1, 1, 1, 1, 1]])}"
      ]
     },
     "execution_count": 22,
     "metadata": {},
     "output_type": "execute_result"
    }
   ],
   "source": [
    "prompt = \"\"\"Summarize the following text:\\n\\n\n",
    "    #Person1#: Have you considered upgrading your system?\n",
    "    #Person2#: Yes, but I'm not sure what exactly I would need.\n",
    "    #Person1#: You could consider adding a painting program to your software. It would allow you to make up your own flyers and banners for advertising.\n",
    "    #Person2#: That would be a definite bonus.\n",
    "    #Person1#: You might also want to upgrade your hardware because it is pretty outdated now.\n",
    "    #Person2#: How can we do that?\n",
    "    #Person1#: You'd probably need a faster processor, to begin with. And you also need a more powerful hard disc, more memory and a faster modem. Do you have a CD-ROM drive?\n",
    "    #Person2#: No.\n",
    "    #Person1#: Then you might want to add a CD-ROM drive too, because most new software programs are coming out on Cds.\n",
    "    #Person2#: That sounds great. Thanks.\n",
    "    Summary:\n",
    "\"\"\"\n",
    "inputs = tokenizer(prompt, return_tensors='pt')\n",
    "inputs\n"
   ]
  },
  {
   "cell_type": "code",
   "execution_count": 23,
   "metadata": {},
   "outputs": [
    {
     "data": {
      "text/plain": [
       "tensor([[    0,  1713,   345, 13515,   536,  4663,    10,  2114,    25,  1702,\n",
       "         21066,    39,   358,    58,  1713,   345, 13515,   357,  4663,    10,\n",
       "          2163,     6,    68,    27,    31,    51,    59,   417,   125,  1776,\n",
       "            27,   133,   174,     5,  1713,   345, 13515,   536,  4663,    10,\n",
       "           148,   228,   617,     3,     9,  3924,   478,    12,    39,   889,\n",
       "             5,  1713,   345, 13515,   357,  4663,    10,   148,   228,    92,\n",
       "          5941,    39,  4214,     5,  1713,   345, 13515,   536,  4663,    10,\n",
       "           148,   228,    92,   617,     3,     9,  3190,    18, 13103,  1262,\n",
       "             5,     1]], device='mps:0')"
      ]
     },
     "execution_count": 23,
     "metadata": {},
     "output_type": "execute_result"
    }
   ],
   "source": [
    "model_output = model.generate(inputs['input_ids'].to(\"mps\"), max_length=200)\n",
    "model_output"
   ]
  },
  {
   "cell_type": "code",
   "execution_count": 24,
   "metadata": {},
   "outputs": [
    {
     "data": {
      "text/plain": [
       "\"#Person1#: Have you considered upgrading your system? #Person2#: Yes, but I'm not sure what exactly I would need. #Person1#: You could add a painting program to your software. #Person2#: You could also upgrade your hardware. #Person1#: You could also add a CD-ROM drive.\""
      ]
     },
     "execution_count": 24,
     "metadata": {},
     "output_type": "execute_result"
    }
   ],
   "source": [
    "output = tokenizer.decode(model_output[0], skip_special_tokens=True)\n",
    "output"
   ]
  }
 ],
 "metadata": {
  "kernelspec": {
   "display_name": "genaibook",
   "language": "python",
   "name": "genaibook"
  },
  "language_info": {
   "codemirror_mode": {
    "name": "ipython",
    "version": 3
   },
   "file_extension": ".py",
   "mimetype": "text/x-python",
   "name": "python",
   "nbconvert_exporter": "python",
   "pygments_lexer": "ipython3",
   "version": "3.13.2"
  }
 },
 "nbformat": 4,
 "nbformat_minor": 2
}
